{
 "cells": [
  {
   "cell_type": "code",
   "execution_count": 2,
   "id": "1376f39b",
   "metadata": {},
   "outputs": [],
   "source": [
    "import pandas as pd\n",
    "import numpy as np"
   ]
  },
  {
   "cell_type": "code",
   "execution_count": 3,
   "id": "0b1478bc",
   "metadata": {},
   "outputs": [],
   "source": [
    "df = pd.read_csv('tiktok_dataset.csv')"
   ]
  },
  {
   "cell_type": "code",
   "execution_count": 4,
   "id": "c03e1f7c",
   "metadata": {},
   "outputs": [
    {
     "data": {
      "application/vnd.microsoft.datawrangler.viewer.v0+json": {
       "columns": [
        {
         "name": "index",
         "rawType": "int64",
         "type": "integer"
        },
        {
         "name": "#",
         "rawType": "int64",
         "type": "integer"
        },
        {
         "name": "claim_status",
         "rawType": "object",
         "type": "string"
        },
        {
         "name": "video_id",
         "rawType": "int64",
         "type": "integer"
        },
        {
         "name": "video_duration_sec",
         "rawType": "int64",
         "type": "integer"
        },
        {
         "name": "video_transcription_text",
         "rawType": "object",
         "type": "string"
        },
        {
         "name": "verified_status",
         "rawType": "object",
         "type": "string"
        },
        {
         "name": "author_ban_status",
         "rawType": "object",
         "type": "string"
        },
        {
         "name": "video_view_count",
         "rawType": "float64",
         "type": "float"
        },
        {
         "name": "video_like_count",
         "rawType": "float64",
         "type": "float"
        },
        {
         "name": "video_share_count",
         "rawType": "float64",
         "type": "float"
        },
        {
         "name": "video_download_count",
         "rawType": "float64",
         "type": "float"
        },
        {
         "name": "video_comment_count",
         "rawType": "float64",
         "type": "float"
        }
       ],
       "ref": "1d75592e-49d7-4633-84b5-a930523d6ce3",
       "rows": [
        [
         "0",
         "1",
         "claim",
         "7017666017",
         "59",
         "someone shared with me that drone deliveries are already happening and will become common by 2025",
         "not verified",
         "under review",
         "343296.0",
         "19425.0",
         "241.0",
         "1.0",
         "0.0"
        ],
        [
         "1",
         "2",
         "claim",
         "4014381136",
         "32",
         "someone shared with me that there are more microorganisms in one teaspoon of soil than people on the planet",
         "not verified",
         "active",
         "140877.0",
         "77355.0",
         "19034.0",
         "1161.0",
         "684.0"
        ],
        [
         "2",
         "3",
         "claim",
         "9859838091",
         "31",
         "someone shared with me that american industrialist andrew carnegie had a net worth of $475 million usd, worth over $300 billion usd today",
         "not verified",
         "active",
         "902185.0",
         "97690.0",
         "2858.0",
         "833.0",
         "329.0"
        ],
        [
         "3",
         "4",
         "claim",
         "1866847991",
         "25",
         "someone shared with me that the metro of st. petersburg, with an average depth of hundred meters, is the deepest metro in the world",
         "not verified",
         "active",
         "437506.0",
         "239954.0",
         "34812.0",
         "1234.0",
         "584.0"
        ],
        [
         "4",
         "5",
         "claim",
         "7105231098",
         "19",
         "someone shared with me that the number of businesses allowing employees to bring pets to the workplace has grown by 6% worldwide",
         "not verified",
         "active",
         "56167.0",
         "34987.0",
         "4110.0",
         "547.0",
         "152.0"
        ]
       ],
       "shape": {
        "columns": 12,
        "rows": 5
       }
      },
      "text/html": [
       "<div>\n",
       "<style scoped>\n",
       "    .dataframe tbody tr th:only-of-type {\n",
       "        vertical-align: middle;\n",
       "    }\n",
       "\n",
       "    .dataframe tbody tr th {\n",
       "        vertical-align: top;\n",
       "    }\n",
       "\n",
       "    .dataframe thead th {\n",
       "        text-align: right;\n",
       "    }\n",
       "</style>\n",
       "<table border=\"1\" class=\"dataframe\">\n",
       "  <thead>\n",
       "    <tr style=\"text-align: right;\">\n",
       "      <th></th>\n",
       "      <th>#</th>\n",
       "      <th>claim_status</th>\n",
       "      <th>video_id</th>\n",
       "      <th>video_duration_sec</th>\n",
       "      <th>video_transcription_text</th>\n",
       "      <th>verified_status</th>\n",
       "      <th>author_ban_status</th>\n",
       "      <th>video_view_count</th>\n",
       "      <th>video_like_count</th>\n",
       "      <th>video_share_count</th>\n",
       "      <th>video_download_count</th>\n",
       "      <th>video_comment_count</th>\n",
       "    </tr>\n",
       "  </thead>\n",
       "  <tbody>\n",
       "    <tr>\n",
       "      <th>0</th>\n",
       "      <td>1</td>\n",
       "      <td>claim</td>\n",
       "      <td>7017666017</td>\n",
       "      <td>59</td>\n",
       "      <td>someone shared with me that drone deliveries a...</td>\n",
       "      <td>not verified</td>\n",
       "      <td>under review</td>\n",
       "      <td>343296.0</td>\n",
       "      <td>19425.0</td>\n",
       "      <td>241.0</td>\n",
       "      <td>1.0</td>\n",
       "      <td>0.0</td>\n",
       "    </tr>\n",
       "    <tr>\n",
       "      <th>1</th>\n",
       "      <td>2</td>\n",
       "      <td>claim</td>\n",
       "      <td>4014381136</td>\n",
       "      <td>32</td>\n",
       "      <td>someone shared with me that there are more mic...</td>\n",
       "      <td>not verified</td>\n",
       "      <td>active</td>\n",
       "      <td>140877.0</td>\n",
       "      <td>77355.0</td>\n",
       "      <td>19034.0</td>\n",
       "      <td>1161.0</td>\n",
       "      <td>684.0</td>\n",
       "    </tr>\n",
       "    <tr>\n",
       "      <th>2</th>\n",
       "      <td>3</td>\n",
       "      <td>claim</td>\n",
       "      <td>9859838091</td>\n",
       "      <td>31</td>\n",
       "      <td>someone shared with me that american industria...</td>\n",
       "      <td>not verified</td>\n",
       "      <td>active</td>\n",
       "      <td>902185.0</td>\n",
       "      <td>97690.0</td>\n",
       "      <td>2858.0</td>\n",
       "      <td>833.0</td>\n",
       "      <td>329.0</td>\n",
       "    </tr>\n",
       "    <tr>\n",
       "      <th>3</th>\n",
       "      <td>4</td>\n",
       "      <td>claim</td>\n",
       "      <td>1866847991</td>\n",
       "      <td>25</td>\n",
       "      <td>someone shared with me that the metro of st. p...</td>\n",
       "      <td>not verified</td>\n",
       "      <td>active</td>\n",
       "      <td>437506.0</td>\n",
       "      <td>239954.0</td>\n",
       "      <td>34812.0</td>\n",
       "      <td>1234.0</td>\n",
       "      <td>584.0</td>\n",
       "    </tr>\n",
       "    <tr>\n",
       "      <th>4</th>\n",
       "      <td>5</td>\n",
       "      <td>claim</td>\n",
       "      <td>7105231098</td>\n",
       "      <td>19</td>\n",
       "      <td>someone shared with me that the number of busi...</td>\n",
       "      <td>not verified</td>\n",
       "      <td>active</td>\n",
       "      <td>56167.0</td>\n",
       "      <td>34987.0</td>\n",
       "      <td>4110.0</td>\n",
       "      <td>547.0</td>\n",
       "      <td>152.0</td>\n",
       "    </tr>\n",
       "  </tbody>\n",
       "</table>\n",
       "</div>"
      ],
      "text/plain": [
       "   # claim_status    video_id  video_duration_sec  \\\n",
       "0  1        claim  7017666017                  59   \n",
       "1  2        claim  4014381136                  32   \n",
       "2  3        claim  9859838091                  31   \n",
       "3  4        claim  1866847991                  25   \n",
       "4  5        claim  7105231098                  19   \n",
       "\n",
       "                            video_transcription_text verified_status  \\\n",
       "0  someone shared with me that drone deliveries a...    not verified   \n",
       "1  someone shared with me that there are more mic...    not verified   \n",
       "2  someone shared with me that american industria...    not verified   \n",
       "3  someone shared with me that the metro of st. p...    not verified   \n",
       "4  someone shared with me that the number of busi...    not verified   \n",
       "\n",
       "  author_ban_status  video_view_count  video_like_count  video_share_count  \\\n",
       "0      under review          343296.0           19425.0              241.0   \n",
       "1            active          140877.0           77355.0            19034.0   \n",
       "2            active          902185.0           97690.0             2858.0   \n",
       "3            active          437506.0          239954.0            34812.0   \n",
       "4            active           56167.0           34987.0             4110.0   \n",
       "\n",
       "   video_download_count  video_comment_count  \n",
       "0                   1.0                  0.0  \n",
       "1                1161.0                684.0  \n",
       "2                 833.0                329.0  \n",
       "3                1234.0                584.0  \n",
       "4                 547.0                152.0  "
      ]
     },
     "execution_count": 4,
     "metadata": {},
     "output_type": "execute_result"
    }
   ],
   "source": [
    "df.head()"
   ]
  },
  {
   "cell_type": "markdown",
   "id": "d375a09d",
   "metadata": {},
   "source": [
    "Let's start from cleaning the data:"
   ]
  },
  {
   "cell_type": "markdown",
   "id": "af768a52",
   "metadata": {},
   "source": [
    "a.Remove the columns which can't have any effect on claim status like video_id"
   ]
  },
  {
   "cell_type": "code",
   "execution_count": 5,
   "id": "0e40ea05",
   "metadata": {},
   "outputs": [],
   "source": [
    "df = df.drop(columns=['video_id','#'])"
   ]
  },
  {
   "cell_type": "code",
   "execution_count": 6,
   "id": "b6f4e206",
   "metadata": {},
   "outputs": [
    {
     "data": {
      "application/vnd.microsoft.datawrangler.viewer.v0+json": {
       "columns": [
        {
         "name": "index",
         "rawType": "int64",
         "type": "integer"
        },
        {
         "name": "claim_status",
         "rawType": "object",
         "type": "string"
        },
        {
         "name": "video_duration_sec",
         "rawType": "int64",
         "type": "integer"
        },
        {
         "name": "video_transcription_text",
         "rawType": "object",
         "type": "string"
        },
        {
         "name": "verified_status",
         "rawType": "object",
         "type": "string"
        },
        {
         "name": "author_ban_status",
         "rawType": "object",
         "type": "string"
        },
        {
         "name": "video_view_count",
         "rawType": "float64",
         "type": "float"
        },
        {
         "name": "video_like_count",
         "rawType": "float64",
         "type": "float"
        },
        {
         "name": "video_share_count",
         "rawType": "float64",
         "type": "float"
        },
        {
         "name": "video_download_count",
         "rawType": "float64",
         "type": "float"
        },
        {
         "name": "video_comment_count",
         "rawType": "float64",
         "type": "float"
        }
       ],
       "ref": "deb6d3e7-afd7-4fb9-b5c5-5453d50d4cec",
       "rows": [
        [
         "0",
         "claim",
         "59",
         "someone shared with me that drone deliveries are already happening and will become common by 2025",
         "not verified",
         "under review",
         "343296.0",
         "19425.0",
         "241.0",
         "1.0",
         "0.0"
        ],
        [
         "1",
         "claim",
         "32",
         "someone shared with me that there are more microorganisms in one teaspoon of soil than people on the planet",
         "not verified",
         "active",
         "140877.0",
         "77355.0",
         "19034.0",
         "1161.0",
         "684.0"
        ],
        [
         "2",
         "claim",
         "31",
         "someone shared with me that american industrialist andrew carnegie had a net worth of $475 million usd, worth over $300 billion usd today",
         "not verified",
         "active",
         "902185.0",
         "97690.0",
         "2858.0",
         "833.0",
         "329.0"
        ],
        [
         "3",
         "claim",
         "25",
         "someone shared with me that the metro of st. petersburg, with an average depth of hundred meters, is the deepest metro in the world",
         "not verified",
         "active",
         "437506.0",
         "239954.0",
         "34812.0",
         "1234.0",
         "584.0"
        ],
        [
         "4",
         "claim",
         "19",
         "someone shared with me that the number of businesses allowing employees to bring pets to the workplace has grown by 6% worldwide",
         "not verified",
         "active",
         "56167.0",
         "34987.0",
         "4110.0",
         "547.0",
         "152.0"
        ]
       ],
       "shape": {
        "columns": 10,
        "rows": 5
       }
      },
      "text/html": [
       "<div>\n",
       "<style scoped>\n",
       "    .dataframe tbody tr th:only-of-type {\n",
       "        vertical-align: middle;\n",
       "    }\n",
       "\n",
       "    .dataframe tbody tr th {\n",
       "        vertical-align: top;\n",
       "    }\n",
       "\n",
       "    .dataframe thead th {\n",
       "        text-align: right;\n",
       "    }\n",
       "</style>\n",
       "<table border=\"1\" class=\"dataframe\">\n",
       "  <thead>\n",
       "    <tr style=\"text-align: right;\">\n",
       "      <th></th>\n",
       "      <th>claim_status</th>\n",
       "      <th>video_duration_sec</th>\n",
       "      <th>video_transcription_text</th>\n",
       "      <th>verified_status</th>\n",
       "      <th>author_ban_status</th>\n",
       "      <th>video_view_count</th>\n",
       "      <th>video_like_count</th>\n",
       "      <th>video_share_count</th>\n",
       "      <th>video_download_count</th>\n",
       "      <th>video_comment_count</th>\n",
       "    </tr>\n",
       "  </thead>\n",
       "  <tbody>\n",
       "    <tr>\n",
       "      <th>0</th>\n",
       "      <td>claim</td>\n",
       "      <td>59</td>\n",
       "      <td>someone shared with me that drone deliveries a...</td>\n",
       "      <td>not verified</td>\n",
       "      <td>under review</td>\n",
       "      <td>343296.0</td>\n",
       "      <td>19425.0</td>\n",
       "      <td>241.0</td>\n",
       "      <td>1.0</td>\n",
       "      <td>0.0</td>\n",
       "    </tr>\n",
       "    <tr>\n",
       "      <th>1</th>\n",
       "      <td>claim</td>\n",
       "      <td>32</td>\n",
       "      <td>someone shared with me that there are more mic...</td>\n",
       "      <td>not verified</td>\n",
       "      <td>active</td>\n",
       "      <td>140877.0</td>\n",
       "      <td>77355.0</td>\n",
       "      <td>19034.0</td>\n",
       "      <td>1161.0</td>\n",
       "      <td>684.0</td>\n",
       "    </tr>\n",
       "    <tr>\n",
       "      <th>2</th>\n",
       "      <td>claim</td>\n",
       "      <td>31</td>\n",
       "      <td>someone shared with me that american industria...</td>\n",
       "      <td>not verified</td>\n",
       "      <td>active</td>\n",
       "      <td>902185.0</td>\n",
       "      <td>97690.0</td>\n",
       "      <td>2858.0</td>\n",
       "      <td>833.0</td>\n",
       "      <td>329.0</td>\n",
       "    </tr>\n",
       "    <tr>\n",
       "      <th>3</th>\n",
       "      <td>claim</td>\n",
       "      <td>25</td>\n",
       "      <td>someone shared with me that the metro of st. p...</td>\n",
       "      <td>not verified</td>\n",
       "      <td>active</td>\n",
       "      <td>437506.0</td>\n",
       "      <td>239954.0</td>\n",
       "      <td>34812.0</td>\n",
       "      <td>1234.0</td>\n",
       "      <td>584.0</td>\n",
       "    </tr>\n",
       "    <tr>\n",
       "      <th>4</th>\n",
       "      <td>claim</td>\n",
       "      <td>19</td>\n",
       "      <td>someone shared with me that the number of busi...</td>\n",
       "      <td>not verified</td>\n",
       "      <td>active</td>\n",
       "      <td>56167.0</td>\n",
       "      <td>34987.0</td>\n",
       "      <td>4110.0</td>\n",
       "      <td>547.0</td>\n",
       "      <td>152.0</td>\n",
       "    </tr>\n",
       "  </tbody>\n",
       "</table>\n",
       "</div>"
      ],
      "text/plain": [
       "  claim_status  video_duration_sec  \\\n",
       "0        claim                  59   \n",
       "1        claim                  32   \n",
       "2        claim                  31   \n",
       "3        claim                  25   \n",
       "4        claim                  19   \n",
       "\n",
       "                            video_transcription_text verified_status  \\\n",
       "0  someone shared with me that drone deliveries a...    not verified   \n",
       "1  someone shared with me that there are more mic...    not verified   \n",
       "2  someone shared with me that american industria...    not verified   \n",
       "3  someone shared with me that the metro of st. p...    not verified   \n",
       "4  someone shared with me that the number of busi...    not verified   \n",
       "\n",
       "  author_ban_status  video_view_count  video_like_count  video_share_count  \\\n",
       "0      under review          343296.0           19425.0              241.0   \n",
       "1            active          140877.0           77355.0            19034.0   \n",
       "2            active          902185.0           97690.0             2858.0   \n",
       "3            active          437506.0          239954.0            34812.0   \n",
       "4            active           56167.0           34987.0             4110.0   \n",
       "\n",
       "   video_download_count  video_comment_count  \n",
       "0                   1.0                  0.0  \n",
       "1                1161.0                684.0  \n",
       "2                 833.0                329.0  \n",
       "3                1234.0                584.0  \n",
       "4                 547.0                152.0  "
      ]
     },
     "execution_count": 6,
     "metadata": {},
     "output_type": "execute_result"
    }
   ],
   "source": [
    "df.head()"
   ]
  },
  {
   "cell_type": "markdown",
   "id": "b29113e3",
   "metadata": {},
   "source": [
    "b.Check and work with na rows"
   ]
  },
  {
   "cell_type": "code",
   "execution_count": 7,
   "id": "2e95d96a",
   "metadata": {},
   "outputs": [
    {
     "name": "stdout",
     "output_type": "stream",
     "text": [
      "<class 'pandas.core.frame.DataFrame'>\n",
      "RangeIndex: 19382 entries, 0 to 19381\n",
      "Data columns (total 10 columns):\n",
      " #   Column                    Non-Null Count  Dtype  \n",
      "---  ------                    --------------  -----  \n",
      " 0   claim_status              19084 non-null  object \n",
      " 1   video_duration_sec        19382 non-null  int64  \n",
      " 2   video_transcription_text  19084 non-null  object \n",
      " 3   verified_status           19382 non-null  object \n",
      " 4   author_ban_status         19382 non-null  object \n",
      " 5   video_view_count          19084 non-null  float64\n",
      " 6   video_like_count          19084 non-null  float64\n",
      " 7   video_share_count         19084 non-null  float64\n",
      " 8   video_download_count      19084 non-null  float64\n",
      " 9   video_comment_count       19084 non-null  float64\n",
      "dtypes: float64(5), int64(1), object(4)\n",
      "memory usage: 1.5+ MB\n"
     ]
    }
   ],
   "source": [
    "df.info()"
   ]
  },
  {
   "cell_type": "code",
   "execution_count": 8,
   "id": "a01dd821",
   "metadata": {},
   "outputs": [],
   "source": [
    "df = df.dropna()"
   ]
  },
  {
   "cell_type": "code",
   "execution_count": 9,
   "id": "5529af25",
   "metadata": {},
   "outputs": [
    {
     "data": {
      "application/vnd.microsoft.datawrangler.viewer.v0+json": {
       "columns": [
        {
         "name": "video_transcription_text",
         "rawType": "object",
         "type": "string"
        },
        {
         "name": "count",
         "rawType": "int64",
         "type": "integer"
        }
       ],
       "ref": "ea0f13ae-969b-4777-b801-dce45bec4da2",
       "rows": [
        [
         "i learned  from the media a claim that the highest total mileage clocked by a single car is 2850000 million miles",
         "2"
        ],
        [
         "i learned  from the media that bubble wrap was originally designed to be used as wallpaper",
         "2"
        ],
        [
         "a colleague read  in the media that insects are attracted to light because of the moon",
         "2"
        ],
        [
         "i read  in the media that jobs in the field of agriculture are the most prevalent types of jobs in the world",
         "2"
        ],
        [
         "i read  in the media that the eye of an ostrich is bigger than its brain",
         "2"
        ],
        [
         "a colleague read  in the media that the oldest surviving song is around 3,500 years old",
         "2"
        ],
        [
         "a colleague read  in the media a claim that some trees in melbourne have email addresses",
         "2"
        ],
        [
         "a colleague learned  from the media a claim that sputnik was the first artificial satellite in space",
         "2"
        ],
        [
         "a friend read  in the media that a common garden snail has over 12,000 teeth",
         "2"
        ],
        [
         "a friend read  in the media a claim that flossing your teeth improves memory",
         "2"
        ]
       ],
       "shape": {
        "columns": 1,
        "rows": 10
       }
      },
      "text/plain": [
       "video_transcription_text\n",
       "i learned  from the media a claim that the highest total mileage clocked by a single car is 2850000 million miles    2\n",
       "i learned  from the media that bubble wrap was originally designed to be used as wallpaper                           2\n",
       "a colleague read  in the media that insects are attracted to light because of the moon                               2\n",
       "i read  in the media that jobs in the field of agriculture are the most prevalent types of jobs in the world         2\n",
       "i read  in the media that the eye of an ostrich is bigger than its brain                                             2\n",
       "a colleague read  in the media that the oldest surviving song is around 3,500 years old                              2\n",
       "a colleague read  in the media a claim that some trees in melbourne have email addresses                             2\n",
       "a colleague learned  from the media a claim that sputnik was the first artificial satellite in space                 2\n",
       "a friend read  in the media that a common garden snail has over 12,000 teeth                                         2\n",
       "a friend read  in the media a claim that flossing your teeth improves memory                                         2\n",
       "Name: count, dtype: int64"
      ]
     },
     "execution_count": 9,
     "metadata": {},
     "output_type": "execute_result"
    }
   ],
   "source": [
    "df.value_counts('video_transcription_text').head(10)"
   ]
  },
  {
   "cell_type": "markdown",
   "id": "fa34639b",
   "metadata": {},
   "source": [
    "We will try to find out the most common words in the transcription text w.r.t claim status "
   ]
  },
  {
   "cell_type": "code",
   "execution_count": 10,
   "id": "0bd1acc2",
   "metadata": {},
   "outputs": [],
   "source": [
    "from collections import Counter\n",
    "import re\n",
    "from nltk.corpus import stopwords\n",
    "import nltk"
   ]
  },
  {
   "cell_type": "code",
   "execution_count": 11,
   "id": "a1a22bfe",
   "metadata": {},
   "outputs": [
    {
     "name": "stderr",
     "output_type": "stream",
     "text": [
      "[nltk_data] Downloading package stopwords to\n",
      "[nltk_data]     C:\\Users\\amrit\\AppData\\Roaming\\nltk_data...\n",
      "[nltk_data]   Package stopwords is already up-to-date!\n"
     ]
    },
    {
     "data": {
      "text/plain": [
       "True"
      ]
     },
     "execution_count": 11,
     "metadata": {},
     "output_type": "execute_result"
    }
   ],
   "source": [
    "nltk.download('stopwords')"
   ]
  },
  {
   "cell_type": "code",
   "execution_count": 12,
   "id": "dee273e2",
   "metadata": {},
   "outputs": [],
   "source": [
    "stop_words = set(stopwords.words('english'))"
   ]
  },
  {
   "cell_type": "code",
   "execution_count": 13,
   "id": "5981e43c",
   "metadata": {},
   "outputs": [],
   "source": [
    "def preprocess(text):\n",
    "    if pd.isna(text):\n",
    "        return []\n",
    "    text = text.lower()\n",
    "    text = re.sub(r'[^a-z\\s]', '', text)\n",
    "    words = [w for w in text.split() if w not in stop_words]\n",
    "    return words"
   ]
  },
  {
   "cell_type": "markdown",
   "id": "408e0c7a",
   "metadata": {},
   "source": [
    "We will now apply the preprocess function to the 'video_transcription_text' column to identify the most common words used in the transcriptions w.r.t claim status"
   ]
  },
  {
   "cell_type": "code",
   "execution_count": 14,
   "id": "02560138",
   "metadata": {},
   "outputs": [],
   "source": [
    "df['tokens'] = df['video_transcription_text'].apply(preprocess)\n",
    "# Group by claim_status and combine tokens\n",
    "grouped = df.groupby('claim_status')['tokens'].sum().reset_index()\n",
    "\n",
    "def get_top_words(words, n=10):\n",
    "    counter = Counter(words)\n",
    "    return counter.most_common(n)\n",
    "\n",
    "grouped['top_10_words'] = grouped['tokens'].apply(lambda x: get_top_words(x, 10))\n",
    "\n",
    "# Keep only relevant columns\n",
    "result = grouped[['claim_status', 'top_10_words']]"
   ]
  },
  {
   "cell_type": "code",
   "execution_count": 15,
   "id": "5c2ce0be",
   "metadata": {},
   "outputs": [
    {
     "data": {
      "application/vnd.microsoft.datawrangler.viewer.v0+json": {
       "columns": [
        {
         "name": "index",
         "rawType": "int64",
         "type": "integer"
        },
        {
         "name": "claim_status",
         "rawType": "object",
         "type": "string"
        },
        {
         "name": "top_10_words",
         "rawType": "object",
         "type": "unknown"
        }
       ],
       "ref": "91a67f01-687d-44eb-9203-3b9e4680b48f",
       "rows": [
        [
         "0",
         "claim",
         "[('claim', 3501), ('read', 3302), ('learned', 2950), ('someone', 2816), ('media', 2492), ('friend', 2490), ('colleague', 2419), ('discovered', 2205), ('news', 1551), ('internet', 908)]"
        ],
        [
         "1",
         "opinion",
         "[('friends', 2179), ('colleagues', 1958), ('familys', 1160), ('willing', 1136), ('view', 992), ('world', 824), ('family', 776), ('opinion', 676), ('say', 664), ('earth', 566)]"
        ]
       ],
       "shape": {
        "columns": 2,
        "rows": 2
       }
      },
      "text/html": [
       "<div>\n",
       "<style scoped>\n",
       "    .dataframe tbody tr th:only-of-type {\n",
       "        vertical-align: middle;\n",
       "    }\n",
       "\n",
       "    .dataframe tbody tr th {\n",
       "        vertical-align: top;\n",
       "    }\n",
       "\n",
       "    .dataframe thead th {\n",
       "        text-align: right;\n",
       "    }\n",
       "</style>\n",
       "<table border=\"1\" class=\"dataframe\">\n",
       "  <thead>\n",
       "    <tr style=\"text-align: right;\">\n",
       "      <th></th>\n",
       "      <th>claim_status</th>\n",
       "      <th>top_10_words</th>\n",
       "    </tr>\n",
       "  </thead>\n",
       "  <tbody>\n",
       "    <tr>\n",
       "      <th>0</th>\n",
       "      <td>claim</td>\n",
       "      <td>[(claim, 3501), (read, 3302), (learned, 2950),...</td>\n",
       "    </tr>\n",
       "    <tr>\n",
       "      <th>1</th>\n",
       "      <td>opinion</td>\n",
       "      <td>[(friends, 2179), (colleagues, 1958), (familys...</td>\n",
       "    </tr>\n",
       "  </tbody>\n",
       "</table>\n",
       "</div>"
      ],
      "text/plain": [
       "  claim_status                                       top_10_words\n",
       "0        claim  [(claim, 3501), (read, 3302), (learned, 2950),...\n",
       "1      opinion  [(friends, 2179), (colleagues, 1958), (familys..."
      ]
     },
     "execution_count": 15,
     "metadata": {},
     "output_type": "execute_result"
    }
   ],
   "source": [
    "result"
   ]
  },
  {
   "cell_type": "code",
   "execution_count": 16,
   "id": "aeafbb3e",
   "metadata": {},
   "outputs": [
    {
     "name": "stdout",
     "output_type": "stream",
     "text": [
      "Claim words: {'media', 'news', 'learned', 'someone', 'colleague', 'read', 'friend', 'internet', 'discovered', 'claim'}\n",
      "Opinion words: {'earth', 'familys', 'world', 'view', 'family', 'opinion', 'say', 'friends', 'willing', 'colleagues'}\n"
     ]
    }
   ],
   "source": [
    "# Extract top words for claim\n",
    "claim_words = set([word for word, count in result.loc[result['claim_status'] == 'claim', 'top_10_words'].iloc[0]])\n",
    "\n",
    "# Extract top words for opinion\n",
    "opinion_words = set([word for word, count in result.loc[result['claim_status'] == 'opinion', 'top_10_words'].iloc[0]])\n",
    "\n",
    "print(\"Claim words:\", claim_words)\n",
    "print(\"Opinion words:\", opinion_words)"
   ]
  },
  {
   "cell_type": "code",
   "execution_count": null,
   "id": "5bcada59",
   "metadata": {},
   "outputs": [],
   "source": [
    "def classify_text(text, claim_words, opinion_words):\n",
    "    #1.Handle Missing or Invalid Input. If a cell contains a missing (NaN) or non-text value, it returns zeros and an 'Unknown' label.\n",
    "    if not isinstance(text, str):\n",
    "        return pd.Series([0, 0, 'Unknown'])\n",
    "    #2.Preprocess the Text. The function converts the text to lowercase, removes non-alphabetic characters, and splits it into words.\n",
    "    text = text.lower()\n",
    "    text = re.sub(r'[^a-z\\s]', '', text)\n",
    "    words = text.split()\n",
    "    #3.Count Word Occurrences. It counts how many words from the text are present in the claim_words and opinion_words sets.\n",
    "    claim_count = sum(word in claim_words for word in words)\n",
    "    opinion_count = sum(word in opinion_words for word in words)\n",
    "    #4.Assign a Label. Based on the counts, it assigns a label: 'C' for claim, 'O' for opinion, or 'Unknown' if counts are equal.\n",
    "    if claim_count > opinion_count:\n",
    "        label = 'C'\n",
    "    elif opinion_count > claim_count:\n",
    "        label = 'O'\n",
    "    else:\n",
    "        label = 'Unknown'\n",
    "    #5.Return the Results. The function returns a pandas Series containing the claim count, opinion count, and assigned label.\n",
    "    return pd.Series([claim_count, opinion_count, label])"
   ]
  },
  {
   "cell_type": "code",
   "execution_count": 18,
   "id": "dace192e",
   "metadata": {},
   "outputs": [],
   "source": [
    "df[['claim_count', 'opinion_count', 'label']] = df['video_transcription_text'].apply(\n",
    "    lambda x: classify_text(x, claim_words, opinion_words)\n",
    ")"
   ]
  },
  {
   "cell_type": "code",
   "execution_count": 19,
   "id": "7895fa11",
   "metadata": {},
   "outputs": [
    {
     "data": {
      "application/vnd.microsoft.datawrangler.viewer.v0+json": {
       "columns": [
        {
         "name": "index",
         "rawType": "int64",
         "type": "integer"
        },
        {
         "name": "claim_status",
         "rawType": "object",
         "type": "string"
        },
        {
         "name": "video_duration_sec",
         "rawType": "int64",
         "type": "integer"
        },
        {
         "name": "video_transcription_text",
         "rawType": "object",
         "type": "string"
        },
        {
         "name": "verified_status",
         "rawType": "object",
         "type": "string"
        },
        {
         "name": "author_ban_status",
         "rawType": "object",
         "type": "string"
        },
        {
         "name": "video_view_count",
         "rawType": "float64",
         "type": "float"
        },
        {
         "name": "video_like_count",
         "rawType": "float64",
         "type": "float"
        },
        {
         "name": "video_share_count",
         "rawType": "float64",
         "type": "float"
        },
        {
         "name": "video_download_count",
         "rawType": "float64",
         "type": "float"
        },
        {
         "name": "video_comment_count",
         "rawType": "float64",
         "type": "float"
        },
        {
         "name": "tokens",
         "rawType": "object",
         "type": "unknown"
        },
        {
         "name": "claim_count",
         "rawType": "int64",
         "type": "integer"
        },
        {
         "name": "opinion_count",
         "rawType": "int64",
         "type": "integer"
        },
        {
         "name": "label",
         "rawType": "object",
         "type": "string"
        }
       ],
       "ref": "99bebddc-4607-466e-ab13-6b796375540c",
       "rows": [
        [
         "0",
         "claim",
         "59",
         "someone shared with me that drone deliveries are already happening and will become common by 2025",
         "not verified",
         "under review",
         "343296.0",
         "19425.0",
         "241.0",
         "1.0",
         "0.0",
         "['someone', 'shared', 'drone', 'deliveries', 'already', 'happening', 'become', 'common']",
         "1",
         "0",
         "C"
        ],
        [
         "1",
         "claim",
         "32",
         "someone shared with me that there are more microorganisms in one teaspoon of soil than people on the planet",
         "not verified",
         "active",
         "140877.0",
         "77355.0",
         "19034.0",
         "1161.0",
         "684.0",
         "['someone', 'shared', 'microorganisms', 'one', 'teaspoon', 'soil', 'people', 'planet']",
         "1",
         "0",
         "C"
        ],
        [
         "2",
         "claim",
         "31",
         "someone shared with me that american industrialist andrew carnegie had a net worth of $475 million usd, worth over $300 billion usd today",
         "not verified",
         "active",
         "902185.0",
         "97690.0",
         "2858.0",
         "833.0",
         "329.0",
         "['someone', 'shared', 'american', 'industrialist', 'andrew', 'carnegie', 'net', 'worth', 'million', 'usd', 'worth', 'billion', 'usd', 'today']",
         "1",
         "0",
         "C"
        ],
        [
         "3",
         "claim",
         "25",
         "someone shared with me that the metro of st. petersburg, with an average depth of hundred meters, is the deepest metro in the world",
         "not verified",
         "active",
         "437506.0",
         "239954.0",
         "34812.0",
         "1234.0",
         "584.0",
         "['someone', 'shared', 'metro', 'st', 'petersburg', 'average', 'depth', 'hundred', 'meters', 'deepest', 'metro', 'world']",
         "1",
         "1",
         "Unknown"
        ],
        [
         "4",
         "claim",
         "19",
         "someone shared with me that the number of businesses allowing employees to bring pets to the workplace has grown by 6% worldwide",
         "not verified",
         "active",
         "56167.0",
         "34987.0",
         "4110.0",
         "547.0",
         "152.0",
         "['someone', 'shared', 'number', 'businesses', 'allowing', 'employees', 'bring', 'pets', 'workplace', 'grown', 'worldwide']",
         "1",
         "0",
         "C"
        ]
       ],
       "shape": {
        "columns": 14,
        "rows": 5
       }
      },
      "text/html": [
       "<div>\n",
       "<style scoped>\n",
       "    .dataframe tbody tr th:only-of-type {\n",
       "        vertical-align: middle;\n",
       "    }\n",
       "\n",
       "    .dataframe tbody tr th {\n",
       "        vertical-align: top;\n",
       "    }\n",
       "\n",
       "    .dataframe thead th {\n",
       "        text-align: right;\n",
       "    }\n",
       "</style>\n",
       "<table border=\"1\" class=\"dataframe\">\n",
       "  <thead>\n",
       "    <tr style=\"text-align: right;\">\n",
       "      <th></th>\n",
       "      <th>claim_status</th>\n",
       "      <th>video_duration_sec</th>\n",
       "      <th>video_transcription_text</th>\n",
       "      <th>verified_status</th>\n",
       "      <th>author_ban_status</th>\n",
       "      <th>video_view_count</th>\n",
       "      <th>video_like_count</th>\n",
       "      <th>video_share_count</th>\n",
       "      <th>video_download_count</th>\n",
       "      <th>video_comment_count</th>\n",
       "      <th>tokens</th>\n",
       "      <th>claim_count</th>\n",
       "      <th>opinion_count</th>\n",
       "      <th>label</th>\n",
       "    </tr>\n",
       "  </thead>\n",
       "  <tbody>\n",
       "    <tr>\n",
       "      <th>0</th>\n",
       "      <td>claim</td>\n",
       "      <td>59</td>\n",
       "      <td>someone shared with me that drone deliveries a...</td>\n",
       "      <td>not verified</td>\n",
       "      <td>under review</td>\n",
       "      <td>343296.0</td>\n",
       "      <td>19425.0</td>\n",
       "      <td>241.0</td>\n",
       "      <td>1.0</td>\n",
       "      <td>0.0</td>\n",
       "      <td>[someone, shared, drone, deliveries, already, ...</td>\n",
       "      <td>1</td>\n",
       "      <td>0</td>\n",
       "      <td>C</td>\n",
       "    </tr>\n",
       "    <tr>\n",
       "      <th>1</th>\n",
       "      <td>claim</td>\n",
       "      <td>32</td>\n",
       "      <td>someone shared with me that there are more mic...</td>\n",
       "      <td>not verified</td>\n",
       "      <td>active</td>\n",
       "      <td>140877.0</td>\n",
       "      <td>77355.0</td>\n",
       "      <td>19034.0</td>\n",
       "      <td>1161.0</td>\n",
       "      <td>684.0</td>\n",
       "      <td>[someone, shared, microorganisms, one, teaspoo...</td>\n",
       "      <td>1</td>\n",
       "      <td>0</td>\n",
       "      <td>C</td>\n",
       "    </tr>\n",
       "    <tr>\n",
       "      <th>2</th>\n",
       "      <td>claim</td>\n",
       "      <td>31</td>\n",
       "      <td>someone shared with me that american industria...</td>\n",
       "      <td>not verified</td>\n",
       "      <td>active</td>\n",
       "      <td>902185.0</td>\n",
       "      <td>97690.0</td>\n",
       "      <td>2858.0</td>\n",
       "      <td>833.0</td>\n",
       "      <td>329.0</td>\n",
       "      <td>[someone, shared, american, industrialist, and...</td>\n",
       "      <td>1</td>\n",
       "      <td>0</td>\n",
       "      <td>C</td>\n",
       "    </tr>\n",
       "    <tr>\n",
       "      <th>3</th>\n",
       "      <td>claim</td>\n",
       "      <td>25</td>\n",
       "      <td>someone shared with me that the metro of st. p...</td>\n",
       "      <td>not verified</td>\n",
       "      <td>active</td>\n",
       "      <td>437506.0</td>\n",
       "      <td>239954.0</td>\n",
       "      <td>34812.0</td>\n",
       "      <td>1234.0</td>\n",
       "      <td>584.0</td>\n",
       "      <td>[someone, shared, metro, st, petersburg, avera...</td>\n",
       "      <td>1</td>\n",
       "      <td>1</td>\n",
       "      <td>Unknown</td>\n",
       "    </tr>\n",
       "    <tr>\n",
       "      <th>4</th>\n",
       "      <td>claim</td>\n",
       "      <td>19</td>\n",
       "      <td>someone shared with me that the number of busi...</td>\n",
       "      <td>not verified</td>\n",
       "      <td>active</td>\n",
       "      <td>56167.0</td>\n",
       "      <td>34987.0</td>\n",
       "      <td>4110.0</td>\n",
       "      <td>547.0</td>\n",
       "      <td>152.0</td>\n",
       "      <td>[someone, shared, number, businesses, allowing...</td>\n",
       "      <td>1</td>\n",
       "      <td>0</td>\n",
       "      <td>C</td>\n",
       "    </tr>\n",
       "  </tbody>\n",
       "</table>\n",
       "</div>"
      ],
      "text/plain": [
       "  claim_status  video_duration_sec  \\\n",
       "0        claim                  59   \n",
       "1        claim                  32   \n",
       "2        claim                  31   \n",
       "3        claim                  25   \n",
       "4        claim                  19   \n",
       "\n",
       "                            video_transcription_text verified_status  \\\n",
       "0  someone shared with me that drone deliveries a...    not verified   \n",
       "1  someone shared with me that there are more mic...    not verified   \n",
       "2  someone shared with me that american industria...    not verified   \n",
       "3  someone shared with me that the metro of st. p...    not verified   \n",
       "4  someone shared with me that the number of busi...    not verified   \n",
       "\n",
       "  author_ban_status  video_view_count  video_like_count  video_share_count  \\\n",
       "0      under review          343296.0           19425.0              241.0   \n",
       "1            active          140877.0           77355.0            19034.0   \n",
       "2            active          902185.0           97690.0             2858.0   \n",
       "3            active          437506.0          239954.0            34812.0   \n",
       "4            active           56167.0           34987.0             4110.0   \n",
       "\n",
       "   video_download_count  video_comment_count  \\\n",
       "0                   1.0                  0.0   \n",
       "1                1161.0                684.0   \n",
       "2                 833.0                329.0   \n",
       "3                1234.0                584.0   \n",
       "4                 547.0                152.0   \n",
       "\n",
       "                                              tokens  claim_count  \\\n",
       "0  [someone, shared, drone, deliveries, already, ...            1   \n",
       "1  [someone, shared, microorganisms, one, teaspoo...            1   \n",
       "2  [someone, shared, american, industrialist, and...            1   \n",
       "3  [someone, shared, metro, st, petersburg, avera...            1   \n",
       "4  [someone, shared, number, businesses, allowing...            1   \n",
       "\n",
       "   opinion_count    label  \n",
       "0              0        C  \n",
       "1              0        C  \n",
       "2              0        C  \n",
       "3              1  Unknown  \n",
       "4              0        C  "
      ]
     },
     "execution_count": 19,
     "metadata": {},
     "output_type": "execute_result"
    }
   ],
   "source": [
    "df.head()"
   ]
  },
  {
   "cell_type": "code",
   "execution_count": 20,
   "id": "0f14a0a2",
   "metadata": {},
   "outputs": [],
   "source": [
    "df.drop(columns=['video_transcription_text','tokens','claim_count','opinion_count'], inplace=True)"
   ]
  },
  {
   "cell_type": "code",
   "execution_count": 21,
   "id": "2a5aee7a",
   "metadata": {},
   "outputs": [
    {
     "data": {
      "application/vnd.microsoft.datawrangler.viewer.v0+json": {
       "columns": [
        {
         "name": "index",
         "rawType": "int64",
         "type": "integer"
        },
        {
         "name": "claim_status",
         "rawType": "object",
         "type": "string"
        },
        {
         "name": "video_duration_sec",
         "rawType": "int64",
         "type": "integer"
        },
        {
         "name": "verified_status",
         "rawType": "object",
         "type": "string"
        },
        {
         "name": "author_ban_status",
         "rawType": "object",
         "type": "string"
        },
        {
         "name": "video_view_count",
         "rawType": "float64",
         "type": "float"
        },
        {
         "name": "video_like_count",
         "rawType": "float64",
         "type": "float"
        },
        {
         "name": "video_share_count",
         "rawType": "float64",
         "type": "float"
        },
        {
         "name": "video_download_count",
         "rawType": "float64",
         "type": "float"
        },
        {
         "name": "video_comment_count",
         "rawType": "float64",
         "type": "float"
        },
        {
         "name": "label",
         "rawType": "object",
         "type": "string"
        }
       ],
       "ref": "5095083b-1974-4c7b-b6e2-ebeeb43ac6c5",
       "rows": [
        [
         "0",
         "claim",
         "59",
         "not verified",
         "under review",
         "343296.0",
         "19425.0",
         "241.0",
         "1.0",
         "0.0",
         "C"
        ],
        [
         "1",
         "claim",
         "32",
         "not verified",
         "active",
         "140877.0",
         "77355.0",
         "19034.0",
         "1161.0",
         "684.0",
         "C"
        ],
        [
         "2",
         "claim",
         "31",
         "not verified",
         "active",
         "902185.0",
         "97690.0",
         "2858.0",
         "833.0",
         "329.0",
         "C"
        ],
        [
         "3",
         "claim",
         "25",
         "not verified",
         "active",
         "437506.0",
         "239954.0",
         "34812.0",
         "1234.0",
         "584.0",
         "Unknown"
        ],
        [
         "4",
         "claim",
         "19",
         "not verified",
         "active",
         "56167.0",
         "34987.0",
         "4110.0",
         "547.0",
         "152.0",
         "C"
        ]
       ],
       "shape": {
        "columns": 10,
        "rows": 5
       }
      },
      "text/html": [
       "<div>\n",
       "<style scoped>\n",
       "    .dataframe tbody tr th:only-of-type {\n",
       "        vertical-align: middle;\n",
       "    }\n",
       "\n",
       "    .dataframe tbody tr th {\n",
       "        vertical-align: top;\n",
       "    }\n",
       "\n",
       "    .dataframe thead th {\n",
       "        text-align: right;\n",
       "    }\n",
       "</style>\n",
       "<table border=\"1\" class=\"dataframe\">\n",
       "  <thead>\n",
       "    <tr style=\"text-align: right;\">\n",
       "      <th></th>\n",
       "      <th>claim_status</th>\n",
       "      <th>video_duration_sec</th>\n",
       "      <th>verified_status</th>\n",
       "      <th>author_ban_status</th>\n",
       "      <th>video_view_count</th>\n",
       "      <th>video_like_count</th>\n",
       "      <th>video_share_count</th>\n",
       "      <th>video_download_count</th>\n",
       "      <th>video_comment_count</th>\n",
       "      <th>label</th>\n",
       "    </tr>\n",
       "  </thead>\n",
       "  <tbody>\n",
       "    <tr>\n",
       "      <th>0</th>\n",
       "      <td>claim</td>\n",
       "      <td>59</td>\n",
       "      <td>not verified</td>\n",
       "      <td>under review</td>\n",
       "      <td>343296.0</td>\n",
       "      <td>19425.0</td>\n",
       "      <td>241.0</td>\n",
       "      <td>1.0</td>\n",
       "      <td>0.0</td>\n",
       "      <td>C</td>\n",
       "    </tr>\n",
       "    <tr>\n",
       "      <th>1</th>\n",
       "      <td>claim</td>\n",
       "      <td>32</td>\n",
       "      <td>not verified</td>\n",
       "      <td>active</td>\n",
       "      <td>140877.0</td>\n",
       "      <td>77355.0</td>\n",
       "      <td>19034.0</td>\n",
       "      <td>1161.0</td>\n",
       "      <td>684.0</td>\n",
       "      <td>C</td>\n",
       "    </tr>\n",
       "    <tr>\n",
       "      <th>2</th>\n",
       "      <td>claim</td>\n",
       "      <td>31</td>\n",
       "      <td>not verified</td>\n",
       "      <td>active</td>\n",
       "      <td>902185.0</td>\n",
       "      <td>97690.0</td>\n",
       "      <td>2858.0</td>\n",
       "      <td>833.0</td>\n",
       "      <td>329.0</td>\n",
       "      <td>C</td>\n",
       "    </tr>\n",
       "    <tr>\n",
       "      <th>3</th>\n",
       "      <td>claim</td>\n",
       "      <td>25</td>\n",
       "      <td>not verified</td>\n",
       "      <td>active</td>\n",
       "      <td>437506.0</td>\n",
       "      <td>239954.0</td>\n",
       "      <td>34812.0</td>\n",
       "      <td>1234.0</td>\n",
       "      <td>584.0</td>\n",
       "      <td>Unknown</td>\n",
       "    </tr>\n",
       "    <tr>\n",
       "      <th>4</th>\n",
       "      <td>claim</td>\n",
       "      <td>19</td>\n",
       "      <td>not verified</td>\n",
       "      <td>active</td>\n",
       "      <td>56167.0</td>\n",
       "      <td>34987.0</td>\n",
       "      <td>4110.0</td>\n",
       "      <td>547.0</td>\n",
       "      <td>152.0</td>\n",
       "      <td>C</td>\n",
       "    </tr>\n",
       "  </tbody>\n",
       "</table>\n",
       "</div>"
      ],
      "text/plain": [
       "  claim_status  video_duration_sec verified_status author_ban_status  \\\n",
       "0        claim                  59    not verified      under review   \n",
       "1        claim                  32    not verified            active   \n",
       "2        claim                  31    not verified            active   \n",
       "3        claim                  25    not verified            active   \n",
       "4        claim                  19    not verified            active   \n",
       "\n",
       "   video_view_count  video_like_count  video_share_count  \\\n",
       "0          343296.0           19425.0              241.0   \n",
       "1          140877.0           77355.0            19034.0   \n",
       "2          902185.0           97690.0             2858.0   \n",
       "3          437506.0          239954.0            34812.0   \n",
       "4           56167.0           34987.0             4110.0   \n",
       "\n",
       "   video_download_count  video_comment_count    label  \n",
       "0                   1.0                  0.0        C  \n",
       "1                1161.0                684.0        C  \n",
       "2                 833.0                329.0        C  \n",
       "3                1234.0                584.0  Unknown  \n",
       "4                 547.0                152.0        C  "
      ]
     },
     "execution_count": 21,
     "metadata": {},
     "output_type": "execute_result"
    }
   ],
   "source": [
    "df.head()"
   ]
  },
  {
   "cell_type": "code",
   "execution_count": 22,
   "id": "46f689f2",
   "metadata": {},
   "outputs": [],
   "source": [
    "# One-hot encode the 'label' column\n",
    "final_df = pd.get_dummies(df, columns=['verified_status','author_ban_status','label'], dtype=int)"
   ]
  },
  {
   "cell_type": "code",
   "execution_count": 23,
   "id": "4bd9eb48",
   "metadata": {},
   "outputs": [
    {
     "data": {
      "application/vnd.microsoft.datawrangler.viewer.v0+json": {
       "columns": [
        {
         "name": "index",
         "rawType": "int64",
         "type": "integer"
        },
        {
         "name": "claim_status",
         "rawType": "object",
         "type": "string"
        },
        {
         "name": "video_duration_sec",
         "rawType": "int64",
         "type": "integer"
        },
        {
         "name": "video_view_count",
         "rawType": "float64",
         "type": "float"
        },
        {
         "name": "video_like_count",
         "rawType": "float64",
         "type": "float"
        },
        {
         "name": "video_share_count",
         "rawType": "float64",
         "type": "float"
        },
        {
         "name": "video_download_count",
         "rawType": "float64",
         "type": "float"
        },
        {
         "name": "video_comment_count",
         "rawType": "float64",
         "type": "float"
        },
        {
         "name": "verified_status_not verified",
         "rawType": "int64",
         "type": "integer"
        },
        {
         "name": "verified_status_verified",
         "rawType": "int64",
         "type": "integer"
        },
        {
         "name": "author_ban_status_active",
         "rawType": "int64",
         "type": "integer"
        },
        {
         "name": "author_ban_status_banned",
         "rawType": "int64",
         "type": "integer"
        },
        {
         "name": "author_ban_status_under review",
         "rawType": "int64",
         "type": "integer"
        },
        {
         "name": "label_C",
         "rawType": "int64",
         "type": "integer"
        },
        {
         "name": "label_O",
         "rawType": "int64",
         "type": "integer"
        },
        {
         "name": "label_Unknown",
         "rawType": "int64",
         "type": "integer"
        }
       ],
       "ref": "629e7f00-d73c-409e-ab77-d9ab216cfc13",
       "rows": [
        [
         "0",
         "claim",
         "59",
         "343296.0",
         "19425.0",
         "241.0",
         "1.0",
         "0.0",
         "1",
         "0",
         "0",
         "0",
         "1",
         "1",
         "0",
         "0"
        ],
        [
         "1",
         "claim",
         "32",
         "140877.0",
         "77355.0",
         "19034.0",
         "1161.0",
         "684.0",
         "1",
         "0",
         "1",
         "0",
         "0",
         "1",
         "0",
         "0"
        ],
        [
         "2",
         "claim",
         "31",
         "902185.0",
         "97690.0",
         "2858.0",
         "833.0",
         "329.0",
         "1",
         "0",
         "1",
         "0",
         "0",
         "1",
         "0",
         "0"
        ],
        [
         "3",
         "claim",
         "25",
         "437506.0",
         "239954.0",
         "34812.0",
         "1234.0",
         "584.0",
         "1",
         "0",
         "1",
         "0",
         "0",
         "0",
         "0",
         "1"
        ],
        [
         "4",
         "claim",
         "19",
         "56167.0",
         "34987.0",
         "4110.0",
         "547.0",
         "152.0",
         "1",
         "0",
         "1",
         "0",
         "0",
         "1",
         "0",
         "0"
        ]
       ],
       "shape": {
        "columns": 15,
        "rows": 5
       }
      },
      "text/html": [
       "<div>\n",
       "<style scoped>\n",
       "    .dataframe tbody tr th:only-of-type {\n",
       "        vertical-align: middle;\n",
       "    }\n",
       "\n",
       "    .dataframe tbody tr th {\n",
       "        vertical-align: top;\n",
       "    }\n",
       "\n",
       "    .dataframe thead th {\n",
       "        text-align: right;\n",
       "    }\n",
       "</style>\n",
       "<table border=\"1\" class=\"dataframe\">\n",
       "  <thead>\n",
       "    <tr style=\"text-align: right;\">\n",
       "      <th></th>\n",
       "      <th>claim_status</th>\n",
       "      <th>video_duration_sec</th>\n",
       "      <th>video_view_count</th>\n",
       "      <th>video_like_count</th>\n",
       "      <th>video_share_count</th>\n",
       "      <th>video_download_count</th>\n",
       "      <th>video_comment_count</th>\n",
       "      <th>verified_status_not verified</th>\n",
       "      <th>verified_status_verified</th>\n",
       "      <th>author_ban_status_active</th>\n",
       "      <th>author_ban_status_banned</th>\n",
       "      <th>author_ban_status_under review</th>\n",
       "      <th>label_C</th>\n",
       "      <th>label_O</th>\n",
       "      <th>label_Unknown</th>\n",
       "    </tr>\n",
       "  </thead>\n",
       "  <tbody>\n",
       "    <tr>\n",
       "      <th>0</th>\n",
       "      <td>claim</td>\n",
       "      <td>59</td>\n",
       "      <td>343296.0</td>\n",
       "      <td>19425.0</td>\n",
       "      <td>241.0</td>\n",
       "      <td>1.0</td>\n",
       "      <td>0.0</td>\n",
       "      <td>1</td>\n",
       "      <td>0</td>\n",
       "      <td>0</td>\n",
       "      <td>0</td>\n",
       "      <td>1</td>\n",
       "      <td>1</td>\n",
       "      <td>0</td>\n",
       "      <td>0</td>\n",
       "    </tr>\n",
       "    <tr>\n",
       "      <th>1</th>\n",
       "      <td>claim</td>\n",
       "      <td>32</td>\n",
       "      <td>140877.0</td>\n",
       "      <td>77355.0</td>\n",
       "      <td>19034.0</td>\n",
       "      <td>1161.0</td>\n",
       "      <td>684.0</td>\n",
       "      <td>1</td>\n",
       "      <td>0</td>\n",
       "      <td>1</td>\n",
       "      <td>0</td>\n",
       "      <td>0</td>\n",
       "      <td>1</td>\n",
       "      <td>0</td>\n",
       "      <td>0</td>\n",
       "    </tr>\n",
       "    <tr>\n",
       "      <th>2</th>\n",
       "      <td>claim</td>\n",
       "      <td>31</td>\n",
       "      <td>902185.0</td>\n",
       "      <td>97690.0</td>\n",
       "      <td>2858.0</td>\n",
       "      <td>833.0</td>\n",
       "      <td>329.0</td>\n",
       "      <td>1</td>\n",
       "      <td>0</td>\n",
       "      <td>1</td>\n",
       "      <td>0</td>\n",
       "      <td>0</td>\n",
       "      <td>1</td>\n",
       "      <td>0</td>\n",
       "      <td>0</td>\n",
       "    </tr>\n",
       "    <tr>\n",
       "      <th>3</th>\n",
       "      <td>claim</td>\n",
       "      <td>25</td>\n",
       "      <td>437506.0</td>\n",
       "      <td>239954.0</td>\n",
       "      <td>34812.0</td>\n",
       "      <td>1234.0</td>\n",
       "      <td>584.0</td>\n",
       "      <td>1</td>\n",
       "      <td>0</td>\n",
       "      <td>1</td>\n",
       "      <td>0</td>\n",
       "      <td>0</td>\n",
       "      <td>0</td>\n",
       "      <td>0</td>\n",
       "      <td>1</td>\n",
       "    </tr>\n",
       "    <tr>\n",
       "      <th>4</th>\n",
       "      <td>claim</td>\n",
       "      <td>19</td>\n",
       "      <td>56167.0</td>\n",
       "      <td>34987.0</td>\n",
       "      <td>4110.0</td>\n",
       "      <td>547.0</td>\n",
       "      <td>152.0</td>\n",
       "      <td>1</td>\n",
       "      <td>0</td>\n",
       "      <td>1</td>\n",
       "      <td>0</td>\n",
       "      <td>0</td>\n",
       "      <td>1</td>\n",
       "      <td>0</td>\n",
       "      <td>0</td>\n",
       "    </tr>\n",
       "  </tbody>\n",
       "</table>\n",
       "</div>"
      ],
      "text/plain": [
       "  claim_status  video_duration_sec  video_view_count  video_like_count  \\\n",
       "0        claim                  59          343296.0           19425.0   \n",
       "1        claim                  32          140877.0           77355.0   \n",
       "2        claim                  31          902185.0           97690.0   \n",
       "3        claim                  25          437506.0          239954.0   \n",
       "4        claim                  19           56167.0           34987.0   \n",
       "\n",
       "   video_share_count  video_download_count  video_comment_count  \\\n",
       "0              241.0                   1.0                  0.0   \n",
       "1            19034.0                1161.0                684.0   \n",
       "2             2858.0                 833.0                329.0   \n",
       "3            34812.0                1234.0                584.0   \n",
       "4             4110.0                 547.0                152.0   \n",
       "\n",
       "   verified_status_not verified  verified_status_verified  \\\n",
       "0                             1                         0   \n",
       "1                             1                         0   \n",
       "2                             1                         0   \n",
       "3                             1                         0   \n",
       "4                             1                         0   \n",
       "\n",
       "   author_ban_status_active  author_ban_status_banned  \\\n",
       "0                         0                         0   \n",
       "1                         1                         0   \n",
       "2                         1                         0   \n",
       "3                         1                         0   \n",
       "4                         1                         0   \n",
       "\n",
       "   author_ban_status_under review  label_C  label_O  label_Unknown  \n",
       "0                               1        1        0              0  \n",
       "1                               0        1        0              0  \n",
       "2                               0        1        0              0  \n",
       "3                               0        0        0              1  \n",
       "4                               0        1        0              0  "
      ]
     },
     "execution_count": 23,
     "metadata": {},
     "output_type": "execute_result"
    }
   ],
   "source": [
    "final_df.head()"
   ]
  },
  {
   "cell_type": "code",
   "execution_count": 24,
   "id": "2f2388a9",
   "metadata": {},
   "outputs": [],
   "source": [
    "from sklearn.preprocessing import StandardScaler"
   ]
  },
  {
   "cell_type": "code",
   "execution_count": 25,
   "id": "cdae1d41",
   "metadata": {},
   "outputs": [],
   "source": [
    "cols_to_scale = ['video_view_count', 'video_like_count','video_share_count','video_download_count','video_comment_count']"
   ]
  },
  {
   "cell_type": "code",
   "execution_count": 26,
   "id": "755c6f44",
   "metadata": {},
   "outputs": [],
   "source": [
    "scaler = StandardScaler()\n",
    "final_df[cols_to_scale] = scaler.fit_transform(final_df[cols_to_scale])"
   ]
  },
  {
   "cell_type": "code",
   "execution_count": 27,
   "id": "c950e76b",
   "metadata": {},
   "outputs": [],
   "source": [
    "final_df['video_duration_minutes'] = final_df['video_duration_sec'] / 60"
   ]
  },
  {
   "cell_type": "code",
   "execution_count": 28,
   "id": "147339f5",
   "metadata": {},
   "outputs": [],
   "source": [
    "final_df.drop(columns=['video_duration_sec'], inplace=True)"
   ]
  },
  {
   "cell_type": "code",
   "execution_count": 29,
   "id": "a77b3d5d",
   "metadata": {},
   "outputs": [],
   "source": [
    "from sklearn.model_selection import train_test_split\n",
    "from sklearn.linear_model import LogisticRegression\n",
    "from sklearn.tree import DecisionTreeClassifier\n",
    "from sklearn.svm import SVC\n",
    "from sklearn.ensemble import StackingClassifier,RandomForestClassifier"
   ]
  },
  {
   "cell_type": "code",
   "execution_count": 30,
   "id": "15cbc56b",
   "metadata": {},
   "outputs": [
    {
     "data": {
      "text/plain": [
       "Index(['claim_status', 'video_view_count', 'video_like_count',\n",
       "       'video_share_count', 'video_download_count', 'video_comment_count',\n",
       "       'verified_status_not verified', 'verified_status_verified',\n",
       "       'author_ban_status_active', 'author_ban_status_banned',\n",
       "       'author_ban_status_under review', 'label_C', 'label_O', 'label_Unknown',\n",
       "       'video_duration_minutes'],\n",
       "      dtype='object')"
      ]
     },
     "execution_count": 30,
     "metadata": {},
     "output_type": "execute_result"
    }
   ],
   "source": [
    "final_df.columns"
   ]
  },
  {
   "cell_type": "code",
   "execution_count": 31,
   "id": "cd82c390",
   "metadata": {},
   "outputs": [],
   "source": [
    "X = final_df[['video_view_count', 'video_like_count',\n",
    "       'video_share_count', 'video_download_count', 'video_comment_count',\n",
    "       'verified_status_not verified', 'verified_status_verified',\n",
    "       'author_ban_status_active', 'author_ban_status_banned',\n",
    "       'author_ban_status_under review', 'label_C', 'label_O', 'label_Unknown',\n",
    "       'video_duration_minutes']]\n",
    "y = final_df['claim_status']  # Example target variable"
   ]
  },
  {
   "cell_type": "code",
   "execution_count": 32,
   "id": "7ae0eb1a",
   "metadata": {},
   "outputs": [],
   "source": [
    "X_train, X_test, y_train, y_test = train_test_split(X, y, test_size=0.33, random_state=42,stratify=y)"
   ]
  },
  {
   "cell_type": "code",
   "execution_count": 33,
   "id": "01e312de",
   "metadata": {},
   "outputs": [],
   "source": [
    "# Base learners\n",
    "base_learners = [\n",
    "    ('lr', LogisticRegression(max_iter=2300)),\n",
    "    ('dt', DecisionTreeClassifier()),\n",
    "    ('svm', SVC(probability=True))\n",
    "]"
   ]
  },
  {
   "cell_type": "code",
   "execution_count": 34,
   "id": "77887254",
   "metadata": {},
   "outputs": [],
   "source": [
    "meta_model = RandomForestClassifier(n_estimators=300)"
   ]
  },
  {
   "cell_type": "code",
   "execution_count": 35,
   "id": "d4d7dda9",
   "metadata": {},
   "outputs": [],
   "source": [
    "stacking = StackingClassifier(estimators=base_learners, final_estimator=meta_model)"
   ]
  },
  {
   "cell_type": "code",
   "execution_count": 36,
   "id": "30a38b7b",
   "metadata": {},
   "outputs": [],
   "source": [
    "from sklearn.pipeline import make_pipeline"
   ]
  },
  {
   "cell_type": "code",
   "execution_count": 37,
   "id": "72cf1fea",
   "metadata": {},
   "outputs": [],
   "source": [
    "# pipe = make_pipeline(StandardScaler(),stacking)"
   ]
  },
  {
   "cell_type": "code",
   "execution_count": 38,
   "id": "09161bb7",
   "metadata": {},
   "outputs": [
    {
     "data": {
      "text/html": [
       "<style>#sk-container-id-1 {\n",
       "  /* Definition of color scheme common for light and dark mode */\n",
       "  --sklearn-color-text: #000;\n",
       "  --sklearn-color-text-muted: #666;\n",
       "  --sklearn-color-line: gray;\n",
       "  /* Definition of color scheme for unfitted estimators */\n",
       "  --sklearn-color-unfitted-level-0: #fff5e6;\n",
       "  --sklearn-color-unfitted-level-1: #f6e4d2;\n",
       "  --sklearn-color-unfitted-level-2: #ffe0b3;\n",
       "  --sklearn-color-unfitted-level-3: chocolate;\n",
       "  /* Definition of color scheme for fitted estimators */\n",
       "  --sklearn-color-fitted-level-0: #f0f8ff;\n",
       "  --sklearn-color-fitted-level-1: #d4ebff;\n",
       "  --sklearn-color-fitted-level-2: #b3dbfd;\n",
       "  --sklearn-color-fitted-level-3: cornflowerblue;\n",
       "\n",
       "  /* Specific color for light theme */\n",
       "  --sklearn-color-text-on-default-background: var(--sg-text-color, var(--theme-code-foreground, var(--jp-content-font-color1, black)));\n",
       "  --sklearn-color-background: var(--sg-background-color, var(--theme-background, var(--jp-layout-color0, white)));\n",
       "  --sklearn-color-border-box: var(--sg-text-color, var(--theme-code-foreground, var(--jp-content-font-color1, black)));\n",
       "  --sklearn-color-icon: #696969;\n",
       "\n",
       "  @media (prefers-color-scheme: dark) {\n",
       "    /* Redefinition of color scheme for dark theme */\n",
       "    --sklearn-color-text-on-default-background: var(--sg-text-color, var(--theme-code-foreground, var(--jp-content-font-color1, white)));\n",
       "    --sklearn-color-background: var(--sg-background-color, var(--theme-background, var(--jp-layout-color0, #111)));\n",
       "    --sklearn-color-border-box: var(--sg-text-color, var(--theme-code-foreground, var(--jp-content-font-color1, white)));\n",
       "    --sklearn-color-icon: #878787;\n",
       "  }\n",
       "}\n",
       "\n",
       "#sk-container-id-1 {\n",
       "  color: var(--sklearn-color-text);\n",
       "}\n",
       "\n",
       "#sk-container-id-1 pre {\n",
       "  padding: 0;\n",
       "}\n",
       "\n",
       "#sk-container-id-1 input.sk-hidden--visually {\n",
       "  border: 0;\n",
       "  clip: rect(1px 1px 1px 1px);\n",
       "  clip: rect(1px, 1px, 1px, 1px);\n",
       "  height: 1px;\n",
       "  margin: -1px;\n",
       "  overflow: hidden;\n",
       "  padding: 0;\n",
       "  position: absolute;\n",
       "  width: 1px;\n",
       "}\n",
       "\n",
       "#sk-container-id-1 div.sk-dashed-wrapped {\n",
       "  border: 1px dashed var(--sklearn-color-line);\n",
       "  margin: 0 0.4em 0.5em 0.4em;\n",
       "  box-sizing: border-box;\n",
       "  padding-bottom: 0.4em;\n",
       "  background-color: var(--sklearn-color-background);\n",
       "}\n",
       "\n",
       "#sk-container-id-1 div.sk-container {\n",
       "  /* jupyter's `normalize.less` sets `[hidden] { display: none; }`\n",
       "     but bootstrap.min.css set `[hidden] { display: none !important; }`\n",
       "     so we also need the `!important` here to be able to override the\n",
       "     default hidden behavior on the sphinx rendered scikit-learn.org.\n",
       "     See: https://github.com/scikit-learn/scikit-learn/issues/21755 */\n",
       "  display: inline-block !important;\n",
       "  position: relative;\n",
       "}\n",
       "\n",
       "#sk-container-id-1 div.sk-text-repr-fallback {\n",
       "  display: none;\n",
       "}\n",
       "\n",
       "div.sk-parallel-item,\n",
       "div.sk-serial,\n",
       "div.sk-item {\n",
       "  /* draw centered vertical line to link estimators */\n",
       "  background-image: linear-gradient(var(--sklearn-color-text-on-default-background), var(--sklearn-color-text-on-default-background));\n",
       "  background-size: 2px 100%;\n",
       "  background-repeat: no-repeat;\n",
       "  background-position: center center;\n",
       "}\n",
       "\n",
       "/* Parallel-specific style estimator block */\n",
       "\n",
       "#sk-container-id-1 div.sk-parallel-item::after {\n",
       "  content: \"\";\n",
       "  width: 100%;\n",
       "  border-bottom: 2px solid var(--sklearn-color-text-on-default-background);\n",
       "  flex-grow: 1;\n",
       "}\n",
       "\n",
       "#sk-container-id-1 div.sk-parallel {\n",
       "  display: flex;\n",
       "  align-items: stretch;\n",
       "  justify-content: center;\n",
       "  background-color: var(--sklearn-color-background);\n",
       "  position: relative;\n",
       "}\n",
       "\n",
       "#sk-container-id-1 div.sk-parallel-item {\n",
       "  display: flex;\n",
       "  flex-direction: column;\n",
       "}\n",
       "\n",
       "#sk-container-id-1 div.sk-parallel-item:first-child::after {\n",
       "  align-self: flex-end;\n",
       "  width: 50%;\n",
       "}\n",
       "\n",
       "#sk-container-id-1 div.sk-parallel-item:last-child::after {\n",
       "  align-self: flex-start;\n",
       "  width: 50%;\n",
       "}\n",
       "\n",
       "#sk-container-id-1 div.sk-parallel-item:only-child::after {\n",
       "  width: 0;\n",
       "}\n",
       "\n",
       "/* Serial-specific style estimator block */\n",
       "\n",
       "#sk-container-id-1 div.sk-serial {\n",
       "  display: flex;\n",
       "  flex-direction: column;\n",
       "  align-items: center;\n",
       "  background-color: var(--sklearn-color-background);\n",
       "  padding-right: 1em;\n",
       "  padding-left: 1em;\n",
       "}\n",
       "\n",
       "\n",
       "/* Toggleable style: style used for estimator/Pipeline/ColumnTransformer box that is\n",
       "clickable and can be expanded/collapsed.\n",
       "- Pipeline and ColumnTransformer use this feature and define the default style\n",
       "- Estimators will overwrite some part of the style using the `sk-estimator` class\n",
       "*/\n",
       "\n",
       "/* Pipeline and ColumnTransformer style (default) */\n",
       "\n",
       "#sk-container-id-1 div.sk-toggleable {\n",
       "  /* Default theme specific background. It is overwritten whether we have a\n",
       "  specific estimator or a Pipeline/ColumnTransformer */\n",
       "  background-color: var(--sklearn-color-background);\n",
       "}\n",
       "\n",
       "/* Toggleable label */\n",
       "#sk-container-id-1 label.sk-toggleable__label {\n",
       "  cursor: pointer;\n",
       "  display: flex;\n",
       "  width: 100%;\n",
       "  margin-bottom: 0;\n",
       "  padding: 0.5em;\n",
       "  box-sizing: border-box;\n",
       "  text-align: center;\n",
       "  align-items: start;\n",
       "  justify-content: space-between;\n",
       "  gap: 0.5em;\n",
       "}\n",
       "\n",
       "#sk-container-id-1 label.sk-toggleable__label .caption {\n",
       "  font-size: 0.6rem;\n",
       "  font-weight: lighter;\n",
       "  color: var(--sklearn-color-text-muted);\n",
       "}\n",
       "\n",
       "#sk-container-id-1 label.sk-toggleable__label-arrow:before {\n",
       "  /* Arrow on the left of the label */\n",
       "  content: \"▸\";\n",
       "  float: left;\n",
       "  margin-right: 0.25em;\n",
       "  color: var(--sklearn-color-icon);\n",
       "}\n",
       "\n",
       "#sk-container-id-1 label.sk-toggleable__label-arrow:hover:before {\n",
       "  color: var(--sklearn-color-text);\n",
       "}\n",
       "\n",
       "/* Toggleable content - dropdown */\n",
       "\n",
       "#sk-container-id-1 div.sk-toggleable__content {\n",
       "  max-height: 0;\n",
       "  max-width: 0;\n",
       "  overflow: hidden;\n",
       "  text-align: left;\n",
       "  /* unfitted */\n",
       "  background-color: var(--sklearn-color-unfitted-level-0);\n",
       "}\n",
       "\n",
       "#sk-container-id-1 div.sk-toggleable__content.fitted {\n",
       "  /* fitted */\n",
       "  background-color: var(--sklearn-color-fitted-level-0);\n",
       "}\n",
       "\n",
       "#sk-container-id-1 div.sk-toggleable__content pre {\n",
       "  margin: 0.2em;\n",
       "  border-radius: 0.25em;\n",
       "  color: var(--sklearn-color-text);\n",
       "  /* unfitted */\n",
       "  background-color: var(--sklearn-color-unfitted-level-0);\n",
       "}\n",
       "\n",
       "#sk-container-id-1 div.sk-toggleable__content.fitted pre {\n",
       "  /* unfitted */\n",
       "  background-color: var(--sklearn-color-fitted-level-0);\n",
       "}\n",
       "\n",
       "#sk-container-id-1 input.sk-toggleable__control:checked~div.sk-toggleable__content {\n",
       "  /* Expand drop-down */\n",
       "  max-height: 200px;\n",
       "  max-width: 100%;\n",
       "  overflow: auto;\n",
       "}\n",
       "\n",
       "#sk-container-id-1 input.sk-toggleable__control:checked~label.sk-toggleable__label-arrow:before {\n",
       "  content: \"▾\";\n",
       "}\n",
       "\n",
       "/* Pipeline/ColumnTransformer-specific style */\n",
       "\n",
       "#sk-container-id-1 div.sk-label input.sk-toggleable__control:checked~label.sk-toggleable__label {\n",
       "  color: var(--sklearn-color-text);\n",
       "  background-color: var(--sklearn-color-unfitted-level-2);\n",
       "}\n",
       "\n",
       "#sk-container-id-1 div.sk-label.fitted input.sk-toggleable__control:checked~label.sk-toggleable__label {\n",
       "  background-color: var(--sklearn-color-fitted-level-2);\n",
       "}\n",
       "\n",
       "/* Estimator-specific style */\n",
       "\n",
       "/* Colorize estimator box */\n",
       "#sk-container-id-1 div.sk-estimator input.sk-toggleable__control:checked~label.sk-toggleable__label {\n",
       "  /* unfitted */\n",
       "  background-color: var(--sklearn-color-unfitted-level-2);\n",
       "}\n",
       "\n",
       "#sk-container-id-1 div.sk-estimator.fitted input.sk-toggleable__control:checked~label.sk-toggleable__label {\n",
       "  /* fitted */\n",
       "  background-color: var(--sklearn-color-fitted-level-2);\n",
       "}\n",
       "\n",
       "#sk-container-id-1 div.sk-label label.sk-toggleable__label,\n",
       "#sk-container-id-1 div.sk-label label {\n",
       "  /* The background is the default theme color */\n",
       "  color: var(--sklearn-color-text-on-default-background);\n",
       "}\n",
       "\n",
       "/* On hover, darken the color of the background */\n",
       "#sk-container-id-1 div.sk-label:hover label.sk-toggleable__label {\n",
       "  color: var(--sklearn-color-text);\n",
       "  background-color: var(--sklearn-color-unfitted-level-2);\n",
       "}\n",
       "\n",
       "/* Label box, darken color on hover, fitted */\n",
       "#sk-container-id-1 div.sk-label.fitted:hover label.sk-toggleable__label.fitted {\n",
       "  color: var(--sklearn-color-text);\n",
       "  background-color: var(--sklearn-color-fitted-level-2);\n",
       "}\n",
       "\n",
       "/* Estimator label */\n",
       "\n",
       "#sk-container-id-1 div.sk-label label {\n",
       "  font-family: monospace;\n",
       "  font-weight: bold;\n",
       "  display: inline-block;\n",
       "  line-height: 1.2em;\n",
       "}\n",
       "\n",
       "#sk-container-id-1 div.sk-label-container {\n",
       "  text-align: center;\n",
       "}\n",
       "\n",
       "/* Estimator-specific */\n",
       "#sk-container-id-1 div.sk-estimator {\n",
       "  font-family: monospace;\n",
       "  border: 1px dotted var(--sklearn-color-border-box);\n",
       "  border-radius: 0.25em;\n",
       "  box-sizing: border-box;\n",
       "  margin-bottom: 0.5em;\n",
       "  /* unfitted */\n",
       "  background-color: var(--sklearn-color-unfitted-level-0);\n",
       "}\n",
       "\n",
       "#sk-container-id-1 div.sk-estimator.fitted {\n",
       "  /* fitted */\n",
       "  background-color: var(--sklearn-color-fitted-level-0);\n",
       "}\n",
       "\n",
       "/* on hover */\n",
       "#sk-container-id-1 div.sk-estimator:hover {\n",
       "  /* unfitted */\n",
       "  background-color: var(--sklearn-color-unfitted-level-2);\n",
       "}\n",
       "\n",
       "#sk-container-id-1 div.sk-estimator.fitted:hover {\n",
       "  /* fitted */\n",
       "  background-color: var(--sklearn-color-fitted-level-2);\n",
       "}\n",
       "\n",
       "/* Specification for estimator info (e.g. \"i\" and \"?\") */\n",
       "\n",
       "/* Common style for \"i\" and \"?\" */\n",
       "\n",
       ".sk-estimator-doc-link,\n",
       "a:link.sk-estimator-doc-link,\n",
       "a:visited.sk-estimator-doc-link {\n",
       "  float: right;\n",
       "  font-size: smaller;\n",
       "  line-height: 1em;\n",
       "  font-family: monospace;\n",
       "  background-color: var(--sklearn-color-background);\n",
       "  border-radius: 1em;\n",
       "  height: 1em;\n",
       "  width: 1em;\n",
       "  text-decoration: none !important;\n",
       "  margin-left: 0.5em;\n",
       "  text-align: center;\n",
       "  /* unfitted */\n",
       "  border: var(--sklearn-color-unfitted-level-1) 1pt solid;\n",
       "  color: var(--sklearn-color-unfitted-level-1);\n",
       "}\n",
       "\n",
       ".sk-estimator-doc-link.fitted,\n",
       "a:link.sk-estimator-doc-link.fitted,\n",
       "a:visited.sk-estimator-doc-link.fitted {\n",
       "  /* fitted */\n",
       "  border: var(--sklearn-color-fitted-level-1) 1pt solid;\n",
       "  color: var(--sklearn-color-fitted-level-1);\n",
       "}\n",
       "\n",
       "/* On hover */\n",
       "div.sk-estimator:hover .sk-estimator-doc-link:hover,\n",
       ".sk-estimator-doc-link:hover,\n",
       "div.sk-label-container:hover .sk-estimator-doc-link:hover,\n",
       ".sk-estimator-doc-link:hover {\n",
       "  /* unfitted */\n",
       "  background-color: var(--sklearn-color-unfitted-level-3);\n",
       "  color: var(--sklearn-color-background);\n",
       "  text-decoration: none;\n",
       "}\n",
       "\n",
       "div.sk-estimator.fitted:hover .sk-estimator-doc-link.fitted:hover,\n",
       ".sk-estimator-doc-link.fitted:hover,\n",
       "div.sk-label-container:hover .sk-estimator-doc-link.fitted:hover,\n",
       ".sk-estimator-doc-link.fitted:hover {\n",
       "  /* fitted */\n",
       "  background-color: var(--sklearn-color-fitted-level-3);\n",
       "  color: var(--sklearn-color-background);\n",
       "  text-decoration: none;\n",
       "}\n",
       "\n",
       "/* Span, style for the box shown on hovering the info icon */\n",
       ".sk-estimator-doc-link span {\n",
       "  display: none;\n",
       "  z-index: 9999;\n",
       "  position: relative;\n",
       "  font-weight: normal;\n",
       "  right: .2ex;\n",
       "  padding: .5ex;\n",
       "  margin: .5ex;\n",
       "  width: min-content;\n",
       "  min-width: 20ex;\n",
       "  max-width: 50ex;\n",
       "  color: var(--sklearn-color-text);\n",
       "  box-shadow: 2pt 2pt 4pt #999;\n",
       "  /* unfitted */\n",
       "  background: var(--sklearn-color-unfitted-level-0);\n",
       "  border: .5pt solid var(--sklearn-color-unfitted-level-3);\n",
       "}\n",
       "\n",
       ".sk-estimator-doc-link.fitted span {\n",
       "  /* fitted */\n",
       "  background: var(--sklearn-color-fitted-level-0);\n",
       "  border: var(--sklearn-color-fitted-level-3);\n",
       "}\n",
       "\n",
       ".sk-estimator-doc-link:hover span {\n",
       "  display: block;\n",
       "}\n",
       "\n",
       "/* \"?\"-specific style due to the `<a>` HTML tag */\n",
       "\n",
       "#sk-container-id-1 a.estimator_doc_link {\n",
       "  float: right;\n",
       "  font-size: 1rem;\n",
       "  line-height: 1em;\n",
       "  font-family: monospace;\n",
       "  background-color: var(--sklearn-color-background);\n",
       "  border-radius: 1rem;\n",
       "  height: 1rem;\n",
       "  width: 1rem;\n",
       "  text-decoration: none;\n",
       "  /* unfitted */\n",
       "  color: var(--sklearn-color-unfitted-level-1);\n",
       "  border: var(--sklearn-color-unfitted-level-1) 1pt solid;\n",
       "}\n",
       "\n",
       "#sk-container-id-1 a.estimator_doc_link.fitted {\n",
       "  /* fitted */\n",
       "  border: var(--sklearn-color-fitted-level-1) 1pt solid;\n",
       "  color: var(--sklearn-color-fitted-level-1);\n",
       "}\n",
       "\n",
       "/* On hover */\n",
       "#sk-container-id-1 a.estimator_doc_link:hover {\n",
       "  /* unfitted */\n",
       "  background-color: var(--sklearn-color-unfitted-level-3);\n",
       "  color: var(--sklearn-color-background);\n",
       "  text-decoration: none;\n",
       "}\n",
       "\n",
       "#sk-container-id-1 a.estimator_doc_link.fitted:hover {\n",
       "  /* fitted */\n",
       "  background-color: var(--sklearn-color-fitted-level-3);\n",
       "}\n",
       "</style><div id=\"sk-container-id-1\" class=\"sk-top-container\"><div class=\"sk-text-repr-fallback\"><pre>StackingClassifier(estimators=[(&#x27;lr&#x27;, LogisticRegression(max_iter=2300)),\n",
       "                               (&#x27;dt&#x27;, DecisionTreeClassifier()),\n",
       "                               (&#x27;svm&#x27;, SVC(probability=True))],\n",
       "                   final_estimator=RandomForestClassifier(n_estimators=300))</pre><b>In a Jupyter environment, please rerun this cell to show the HTML representation or trust the notebook. <br />On GitHub, the HTML representation is unable to render, please try loading this page with nbviewer.org.</b></div><div class=\"sk-container\" hidden><div class=\"sk-item sk-dashed-wrapped\"><div class=\"sk-label-container\"><div class=\"sk-label fitted sk-toggleable\"><input class=\"sk-toggleable__control sk-hidden--visually\" id=\"sk-estimator-id-1\" type=\"checkbox\" ><label for=\"sk-estimator-id-1\" class=\"sk-toggleable__label fitted sk-toggleable__label-arrow\"><div><div>StackingClassifier</div></div><div><a class=\"sk-estimator-doc-link fitted\" rel=\"noreferrer\" target=\"_blank\" href=\"https://scikit-learn.org/1.6/modules/generated/sklearn.ensemble.StackingClassifier.html\">?<span>Documentation for StackingClassifier</span></a><span class=\"sk-estimator-doc-link fitted\">i<span>Fitted</span></span></div></label><div class=\"sk-toggleable__content fitted\"><pre>StackingClassifier(estimators=[(&#x27;lr&#x27;, LogisticRegression(max_iter=2300)),\n",
       "                               (&#x27;dt&#x27;, DecisionTreeClassifier()),\n",
       "                               (&#x27;svm&#x27;, SVC(probability=True))],\n",
       "                   final_estimator=RandomForestClassifier(n_estimators=300))</pre></div> </div></div><div class=\"sk-serial\"><div class=\"sk-item\"><div class=\"sk-parallel\"><div class=\"sk-parallel-item\"><div class=\"sk-item\"><div class=\"sk-label-container\"><div class=\"sk-label fitted sk-toggleable\"><label>lr</label></div></div><div class=\"sk-serial\"><div class=\"sk-item\"><div class=\"sk-estimator fitted sk-toggleable\"><input class=\"sk-toggleable__control sk-hidden--visually\" id=\"sk-estimator-id-2\" type=\"checkbox\" ><label for=\"sk-estimator-id-2\" class=\"sk-toggleable__label fitted sk-toggleable__label-arrow\"><div><div>LogisticRegression</div></div><div><a class=\"sk-estimator-doc-link fitted\" rel=\"noreferrer\" target=\"_blank\" href=\"https://scikit-learn.org/1.6/modules/generated/sklearn.linear_model.LogisticRegression.html\">?<span>Documentation for LogisticRegression</span></a></div></label><div class=\"sk-toggleable__content fitted\"><pre>LogisticRegression(max_iter=2300)</pre></div> </div></div></div></div></div><div class=\"sk-parallel-item\"><div class=\"sk-item\"><div class=\"sk-label-container\"><div class=\"sk-label fitted sk-toggleable\"><label>dt</label></div></div><div class=\"sk-serial\"><div class=\"sk-item\"><div class=\"sk-estimator fitted sk-toggleable\"><input class=\"sk-toggleable__control sk-hidden--visually\" id=\"sk-estimator-id-3\" type=\"checkbox\" ><label for=\"sk-estimator-id-3\" class=\"sk-toggleable__label fitted sk-toggleable__label-arrow\"><div><div>DecisionTreeClassifier</div></div><div><a class=\"sk-estimator-doc-link fitted\" rel=\"noreferrer\" target=\"_blank\" href=\"https://scikit-learn.org/1.6/modules/generated/sklearn.tree.DecisionTreeClassifier.html\">?<span>Documentation for DecisionTreeClassifier</span></a></div></label><div class=\"sk-toggleable__content fitted\"><pre>DecisionTreeClassifier()</pre></div> </div></div></div></div></div><div class=\"sk-parallel-item\"><div class=\"sk-item\"><div class=\"sk-label-container\"><div class=\"sk-label fitted sk-toggleable\"><label>svm</label></div></div><div class=\"sk-serial\"><div class=\"sk-item\"><div class=\"sk-estimator fitted sk-toggleable\"><input class=\"sk-toggleable__control sk-hidden--visually\" id=\"sk-estimator-id-4\" type=\"checkbox\" ><label for=\"sk-estimator-id-4\" class=\"sk-toggleable__label fitted sk-toggleable__label-arrow\"><div><div>SVC</div></div><div><a class=\"sk-estimator-doc-link fitted\" rel=\"noreferrer\" target=\"_blank\" href=\"https://scikit-learn.org/1.6/modules/generated/sklearn.svm.SVC.html\">?<span>Documentation for SVC</span></a></div></label><div class=\"sk-toggleable__content fitted\"><pre>SVC(probability=True)</pre></div> </div></div></div></div></div></div></div><div class=\"sk-item\"><div class=\"sk-parallel\"><div class=\"sk-parallel-item\"><div class=\"sk-item\"><div class=\"sk-label-container\"><div class=\"sk-label fitted sk-toggleable\"><label>final_estimator</label></div></div><div class=\"sk-serial\"><div class=\"sk-item\"><div class=\"sk-estimator fitted sk-toggleable\"><input class=\"sk-toggleable__control sk-hidden--visually\" id=\"sk-estimator-id-5\" type=\"checkbox\" ><label for=\"sk-estimator-id-5\" class=\"sk-toggleable__label fitted sk-toggleable__label-arrow\"><div><div>RandomForestClassifier</div></div><div><a class=\"sk-estimator-doc-link fitted\" rel=\"noreferrer\" target=\"_blank\" href=\"https://scikit-learn.org/1.6/modules/generated/sklearn.ensemble.RandomForestClassifier.html\">?<span>Documentation for RandomForestClassifier</span></a></div></label><div class=\"sk-toggleable__content fitted\"><pre>RandomForestClassifier(n_estimators=300)</pre></div> </div></div></div></div></div></div></div></div></div></div></div>"
      ],
      "text/plain": [
       "StackingClassifier(estimators=[('lr', LogisticRegression(max_iter=2300)),\n",
       "                               ('dt', DecisionTreeClassifier()),\n",
       "                               ('svm', SVC(probability=True))],\n",
       "                   final_estimator=RandomForestClassifier(n_estimators=300))"
      ]
     },
     "execution_count": 38,
     "metadata": {},
     "output_type": "execute_result"
    }
   ],
   "source": [
    "stacking.fit(X_train,y_train)"
   ]
  },
  {
   "cell_type": "code",
   "execution_count": 40,
   "id": "1e4fbee7",
   "metadata": {},
   "outputs": [],
   "source": [
    "# 4. Make predictions on the test set to get y_pred\n",
    "y_pred = stacking.predict(X_test)\n"
   ]
  },
  {
   "cell_type": "code",
   "execution_count": 48,
   "id": "91632a5c",
   "metadata": {},
   "outputs": [
    {
     "data": {
      "image/png": "[encoded data removed]",
      "text/plain": [
       "<Figure size 640x480 with 2 Axes>"
      ]
     },
     "metadata": {},
     "output_type": "display_data"
    }
   ],
   "source": [
    "from sklearn.metrics import confusion_matrix, ConfusionMatrixDisplay\n",
    "import matplotlib.pyplot as plt\n",
    "\n",
    "# Generate confusion matrix\n",
    "cm = confusion_matrix(y_test, y_pred)\n",
    "\n",
    "# Display as a heatmap-style matrix\n",
    "disp = ConfusionMatrixDisplay(confusion_matrix=cm, display_labels=['Claim', 'Opinion'])\n",
    "disp.plot(cmap='Blues', values_format='d')\n",
    "plt.title('Confusion Matrix')\n",
    "plt.show()"
   ]
  },
  {
   "cell_type": "code",
   "execution_count": 49,
   "id": "c358b247",
   "metadata": {},
   "outputs": [
    {
     "name": "stdout",
     "output_type": "stream",
     "text": [
      "Model Accuracy: 0.9978\n"
     ]
    }
   ],
   "source": [
    "from sklearn.metrics import accuracy_score\n",
    "accuracy = accuracy_score(y_test, y_pred)\n",
    "print(f\"Model Accuracy: {accuracy:.4f}\")"
   ]
  },
  {
   "cell_type": "code",
   "execution_count": 50,
   "id": "93c7675f",
   "metadata": {},
   "outputs": [
    {
     "name": "stdout",
     "output_type": "stream",
     "text": [
      "Classification Report:\n",
      "\n",
      "              precision    recall  f1-score   support\n",
      "\n",
      "       Claim       1.00      1.00      1.00      3171\n",
      "     Opinion       1.00      1.00      1.00      3127\n",
      "\n",
      "    accuracy                           1.00      6298\n",
      "   macro avg       1.00      1.00      1.00      6298\n",
      "weighted avg       1.00      1.00      1.00      6298\n",
      "\n"
     ]
    }
   ],
   "source": [
    "from sklearn.metrics import classification_report\n",
    "\n",
    "report = classification_report(y_test, y_pred, target_names=['Claim', 'Opinion'])\n",
    "print(\"Classification Report:\\n\")\n",
    "print(report)"
   ]
  },
  {
   "cell_type": "code",
   "execution_count": 51,
   "id": "68cf9fff",
   "metadata": {},
   "outputs": [
    {
     "name": "stdout",
     "output_type": "stream",
     "text": [
      "Cross-Validation Scores: [0.99659418 0.99004454 0.99869007 0.99921404 0.99868973]\n",
      "Mean Accuracy: 0.9966\n",
      "Standard Deviation: 0.0034\n"
     ]
    }
   ],
   "source": [
    "from sklearn.model_selection import cross_val_score\n",
    "\n",
    "# Perform 5-fold cross validation on the stacking model\n",
    "scores = cross_val_score(stacking, X, y, cv=5, scoring='accuracy')\n",
    "\n",
    "print(\"Cross-Validation Scores:\", scores)\n",
    "print(f\"Mean Accuracy: {scores.mean():.4f}\")\n",
    "print(f\"Standard Deviation: {scores.std():.4f}\")"
   ]
  }
 ],
 "metadata": {
  "kernelspec": {
   "display_name": "DSML",
   "language": "python",
   "name": "python3"
  },
  "language_info": {
   "codemirror_mode": {
    "name": "ipython",
    "version": 3
   },
   "file_extension": ".py",
   "mimetype": "text/x-python",
   "name": "python",
   "nbconvert_exporter": "python",
   "pygments_lexer": "ipython3",
   "version": "3.10.18"
  }
 },
 "nbformat": 4,
 "nbformat_minor": 5
}
